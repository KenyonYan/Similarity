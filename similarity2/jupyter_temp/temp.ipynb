{
 "cells": [
  {
   "cell_type": "code",
   "execution_count": 2,
   "outputs": [],
   "source": [
    "import os\n",
    "import django\n",
    "import numpy as np\n",
    "\n",
    "os.environ.setdefault('DJANGO_SETTINGS_MODULE', 'demo.settings')\n",
    "# 防止 SynchronousOnlyOperation 错误\n",
    "# You cannot call this from an async context\n",
    "os.environ[\"DJANGO_ALLOW_ASYNC_UNSAFE\"] = \"true\"\n",
    "django.setup()"
   ],
   "metadata": {
    "collapsed": false,
    "pycharm": {
     "name": "#%%\n"
    }
   }
  },
  {
   "cell_type": "code",
   "execution_count": null,
   "outputs": [],
   "source": [
    "\"\"\"\n",
    "数据库读取相关代码\n",
    "\"\"\"\n",
    "from typing import List, Tuple, Any, Dict\n",
    "from similarity2.globals import CONFIG\n",
    "import pymysql\n",
    "\n",
    "# 读取config配置\n",
    "host = CONFIG.get(\"database\", \"db_host\")\n",
    "user = CONFIG.get(\"database\", \"db_user\")\n",
    "password = CONFIG.get(\"database\", \"db_password\")\n",
    "db_name = CONFIG.get(\"database\", \"db_name\")\n",
    "\n",
    "\n",
    "class Database:\n",
    "    @classmethod\n",
    "    def get_common_database(cls):\n",
    "        \"\"\"\n",
    "        :param business_type: 业务类型\n",
    "        :return: Database对象\n",
    "\n",
    "        读取ai_original_data表\n",
    "        \"\"\"\n",
    "        return Database(\"ai_original_data\")\n",
    "\n",
    "    def __init__(self, tablename):\n",
    "        self.host = host\n",
    "        self.user = user\n",
    "        self.password = password\n",
    "        self.database = db_name\n",
    "        self.charset = 'utf8'\n",
    "        self.tablename = tablename\n",
    "        self.projection = None\n",
    "        self.connection = pymysql.connect(host=self.host, user=self.user, password=self.password,\n",
    "                                          database=self.database,\n",
    "                                          charset=self.charset)\n",
    "        self.cursor = None\n",
    "        self.filter_sql = \"\"\n",
    "        self.order_by_sql = \"\"\n",
    "\n",
    "    def _execute(self):\n",
    "        self.cursor.execute(\n",
    "            (f\" select {self.projection}\" if self.projection else \"\") +\n",
    "            (f\" from {self.tablename}\" if self.tablename else \"\") +\n",
    "            (f\" where {self.filter_sql}\" if self.filter_sql else \"\") +\n",
    "            (f\" order by {self.order_by_sql}\" if self.order_by_sql else \"\")\n",
    "        )\n",
    "        result = self.cursor.fetchall()\n",
    "        return result\n",
    "\n",
    "    def reset(self):\n",
    "        \"\"\"\n",
    "        重置数据库游标和数据\n",
    "        \"\"\"\n",
    "        self.cursor.close()\n",
    "        self.cursor = None\n",
    "        self.filter_sql = \"\"\n",
    "        self.order_by_sql = \"\"\n",
    "        self.projection = None\n",
    "\n",
    "\n",
    "    def filter(self, **params):\n",
    "        \"\"\"\n",
    "        :param params: 过滤参数，多个参数以and连接\n",
    "        database.filter(business_type=\"item_catalog\").all()\\n\n",
    "        等价于 select * from table where business_type='item_catalog'\n",
    "        \"\"\"\n",
    "        self.filter_sql = \" and \".join(\n",
    "            [\n",
    "                f\"{a}=\\'{b}\\'\"\n",
    "                if type(b) is str\n",
    "                else f\"{a}={b}\"\n",
    "                for a, b in params.items()\n",
    "            ]\n",
    "        )\n",
    "        return self\n",
    "\n",
    "    def order_by(self, *params):\n",
    "        \"\"\"\n",
    "        :param params: 排序参数\n",
    "        database.order_by(\"-id\",\"name\").all()\\n\n",
    "        等价于 select * from table order_by id desc, name\n",
    "        \"\"\"\n",
    "        self.order_by_sql = \",\".join(\n",
    "            [\n",
    "                f\"{x} desc\"\n",
    "                if x[0] == '-'\n",
    "                else {x}\n",
    "                for x in params\n",
    "            ]\n",
    "        )\n",
    "        return self\n",
    "\n",
    "    def values_list(self, *projection, flat=False) ->  Tuple[Tuple[Any]]:\n",
    "        \"\"\"\n",
    "        :param projection: 选择查询的列名\n",
    "        :param flat: 是否以列表返回，当且仅当选择一列时有效\n",
    "        :return: Tuple[Tuple[Any]]\n",
    "\n",
    "        查询，并以二维元组返回结果\n",
    "\n",
    "        >>> db = Database.get_common_database()\n",
    "        >>> r = db.values_list(\"match_str\",\"original_code\",\"original_data\")\n",
    "        >>> print(r)\n",
    "        (\n",
    "            (\"xx\",\"xx\",\"xx\"),\n",
    "            (\"xx\",\"xx\",\"xx\"),\n",
    "            ...\n",
    "        )\n",
    "        >>> db = Database.get_common_database()\n",
    "        >>> r = db.values_list(\"match_str\",flat=True)\n",
    "        >>> print(r)\n",
    "        [\"xx\",\"xx\",\"xx\",...]\n",
    "        \"\"\"\n",
    "        self.projection = \",\".join(projection)\n",
    "        if flat and len(projection) > 1:\n",
    "            raise ValueError(f\"flat=True requires len(projection) == 1,but got len(projection) == {len(projection)}\")\n",
    "        self.cursor = self.connection.cursor()\n",
    "        result = self._execute()\n",
    "        self.reset()\n",
    "        if flat:\n",
    "            result = [x[0] for x in result]\n",
    "        return result\n",
    "\n",
    "    def values_dict(self, *projection, flat=False) -> List[Dict[str, Any]]:\n",
    "        \"\"\"\n",
    "        :param projection: 选择查询的列名\n",
    "        :param flat: 是否以列表返回，当且仅当选择一列时有效\n",
    "        :return: Tuple[Tuple[Any]]\n",
    "\n",
    "        查询，以字典格式返回数据\n",
    "\n",
    "        >>> db = Database.get_common_database()\n",
    "        >>> r = db.values_dict(\"match_str\",\"original_code\",\"original_data\")\n",
    "        >>> print(r)\n",
    "        [\n",
    "            {\"match_str\":\"xx\",\"original_code\":\"xxx\",\"original_data\":\"xxx\"},\n",
    "            {\"match_str\":\"xx\",\"original_code\":\"xxx\",\"original_data\":\"xxx\"},\n",
    "            ...\n",
    "        ]\n",
    "        \"\"\"\n",
    "        self.projection = \",\".join(projection)\n",
    "        self.cursor = self.connection.cursor(cursor=pymysql.cursors.DictCursor)\n",
    "        result = self._execute()\n",
    "        self.reset()\n",
    "        return result\n",
    "\n",
    "database = Database.get_common_database()\n",
    "result = database.filter(business_type=\"catalog_data\").values_list(\"match_str\",flat=True)\n",
    "result"
   ],
   "metadata": {
    "collapsed": false,
    "pycharm": {
     "name": "#%%\n"
    }
   }
  },
  {
   "cell_type": "code",
   "execution_count": null,
   "outputs": [],
   "source": [
    "import torch\n",
    "import numpy as np\n",
    "a = np.array([1,1,1])\n",
    "b = np.array([5,5,5])\n",
    "data = torch.Tensor([\n",
    "    [np.array([1,1,1]),b],\n",
    "    [np.array([1,0,1]),b],\n",
    "    [np.array([0,1,1]),b]\n",
    "])\n",
    "type(data.transpose(0,1))"
   ],
   "metadata": {
    "collapsed": false,
    "pycharm": {
     "name": "#%%\n"
    }
   }
  },
  {
   "cell_type": "code",
   "execution_count": 27,
   "outputs": [
    {
     "data": {
      "text/plain": "'[1.531351, 1615.61531, 16.561351]'"
     },
     "execution_count": 27,
     "metadata": {},
     "output_type": "execute_result"
    }
   ],
   "source": [
    "c = [1.531351,1615.61531,16.561351]\n",
    "str(c)"
   ],
   "metadata": {
    "collapsed": false,
    "pycharm": {
     "name": "#%%\n"
    }
   }
  }
 ],
 "metadata": {
  "kernelspec": {
   "display_name": "PyCharm (Similarity)",
   "language": "python",
   "name": "pycharm-9f4339e0"
  },
  "language_info": {
   "codemirror_mode": {
    "name": "ipython",
    "version": 3
   },
   "file_extension": ".py",
   "mimetype": "text/x-python",
   "name": "python",
   "nbconvert_exporter": "python",
   "pygments_lexer": "ipython3",
   "version": "3.7.2"
  }
 },
 "nbformat": 4,
 "nbformat_minor": 1
}